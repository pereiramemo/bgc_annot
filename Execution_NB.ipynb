{
 "cells": [
  {
   "cell_type": "markdown",
   "id": "edbe3e02-a1ac-4540-b368-0a8b3d64c2a6",
   "metadata": {},
   "source": [
    "![image](https://cdn.discordapp.com/attachments/996200880351215636/1065002848355631165/New_Atlantis.png) "
   ]
  },
  {
   "cell_type": "markdown",
   "id": "321d56b0-ecb4-47e9-b471-8fcee9da8a87",
   "metadata": {
    "tags": []
   },
   "source": [
    "---\n",
    "# Introduction\n",
    "---"
   ]
  },
  {
   "cell_type": "markdown",
   "id": "800a33bf-bdf4-412a-9b7f-58a4dea69722",
   "metadata": {},
   "source": [
    "## Initialization Code "
   ]
  },
  {
   "cell_type": "code",
   "execution_count": 16,
   "id": "861ea586-f45c-4e37-a828-3eb8be7f5df8",
   "metadata": {
    "tags": []
   },
   "outputs": [],
   "source": [
    "#Code to make directories\n",
    "#Run this code once you make a new template to automatically generate the accompanying directories\n",
    "#this will also make empty requirements files and utility nb to be filled in\n",
    "import os \n",
    "\n",
    "if not os.path.exists('./src'):\n",
    "  os.makedirs('./src')\n",
    "if not os.path.exists('./Data'):\n",
    "  os.makedirs('./Data')\n",
    "if not os.path.exists('./Data/Input_Data'):\n",
    "  os.makedirs('./Data/Input_Data')\n",
    "if not os.path.exists('./Data/Output_Data'):\n",
    "  os.makedirs('./Data/Output_Data')\n",
    "if not os.path.exists('./Data/Reference_Data'):\n",
    "  os.makedirs('./Data/Refernce_Data')\n",
    "if not os.path.exists('./src/requirements.txt'):\n",
    "  with open('./src/requirements.txt', 'w') as f:\n",
    "    pass\n",
    "if not os.path.exists('./src/NB_Utility.ipynb'):\n",
    "  with open('./src/NB_utility.ipynb', 'w') as nb:\n",
    "    pass"
   ]
  },
  {
   "cell_type": "markdown",
   "id": "9c5e14e4-f345-41da-8ab4-29d41771ae56",
   "metadata": {},
   "source": [
    "## Tool Purpose  \n",
    "---"
   ]
  },
  {
   "cell_type": "markdown",
   "id": "2a41f9a9-6c2d-47a9-a063-5e9c5b07e0a5",
   "metadata": {},
   "source": [
    "[antiSMASH](https://github.com/antismash/antismash), is a tool is dedicated to the annotation and analysis of secondary metabolite Biosynthetic Gene Clusters (BGCs) in in archaea, bacteria, and fungi.  \n",
    "In this NB we will be running this tool to identify BGCs in metagenome assembled genomes (MAGs)."
   ]
  },
  {
   "cell_type": "markdown",
   "id": "e77c9dea-7126-4093-8fb3-ef15b5a6494a",
   "metadata": {},
   "source": [
    "## Input Data \n",
    "---"
   ]
  },
  {
   "cell_type": "markdown",
   "id": "e028d77b-b270-4032-949f-2d2bd47125e6",
   "metadata": {},
   "source": [
    "The data required to run this NB are the MAGs (fasta format) and their associated reads alignment mapping files ([BAM format](https://samtools.github.io/hts-specs/SAMv1.pdf)).  \n",
    "Both the MAGs and mapping files are generated previously utilizing the [VEBA tool](https://github.com/jolespin/veba).  \n",
    "For demonstration purposes, here we will be analyzing 38 metagenomics samples of the [SOLA dataset](https://pubmed.ncbi.nlm.nih.gov/29925880/), which is a time series dataset spanning three years (from 2012 to 2015) obtained from a coastal northwestern Mediterranean site."
   ]
  },
  {
   "cell_type": "markdown",
   "id": "a2803ae5-51dc-4a2d-b442-170a8f18412d",
   "metadata": {},
   "source": [
    "## Output Data \n",
    "---"
   ]
  },
  {
   "cell_type": "markdown",
   "id": "7b85d43d-7a3c-4b46-8059-6293d0ec700a",
   "metadata": {},
   "source": [
    "Desctiption of what data is required to be input into the tool.\n",
    "- Qualitative (Functional Capaticy, Proteomic Assembly etc)\n",
    "- File types and formatting (.fasta, Blast6, csv/dataframe with schema etc)\n",
    "\n",
    "The output of this NB consists of antiSMASH output, that is the gbk files created for each BGC annotated."
   ]
  },
  {
   "cell_type": "markdown",
   "id": "ad90a79e-33d2-4b4e-bbfe-9987c18b25f4",
   "metadata": {
    "tags": []
   },
   "source": [
    "---\n",
    "# Environment\n",
    "---"
   ]
  },
  {
   "cell_type": "code",
   "execution_count": 29,
   "id": "0567a4f8-def5-429a-a276-98b6f282d369",
   "metadata": {
    "tags": []
   },
   "outputs": [
    {
     "name": "stdout",
     "output_type": "stream",
     "text": [
      "The rpy2.ipython extension is already loaded. To reload it, use:\n",
      "  %reload_ext rpy2.ipython\n",
      "env: REPO=/home/epereira/workspace/dev/new_atlantis/repos/bgc_annot\n",
      "env: seqtk=/nfs/bin/seqtk/seqtk\n"
     ]
    }
   ],
   "source": [
    "%load_ext rpy2.ipython\n",
    "%env REPO=/home/epereira/workspace/dev/new_atlantis/repos/bgc_annot\n",
    "%env seqtk=/nfs/bin/seqtk/seqtk"
   ]
  },
  {
   "cell_type": "markdown",
   "id": "6a38384b-10d5-4984-b1e2-71403bc61345",
   "metadata": {},
   "source": [
    "---\n",
    "## Dependencies (point to requirements.txt and textual list) \n",
    "---"
   ]
  },
  {
   "cell_type": "markdown",
   "id": "493ca348-566c-400f-855e-13e2edb06cf2",
   "metadata": {},
   "source": [
    "Python requirements can be found at `./src/requirements.txt`\n",
    "\n",
    "[Docker](https://www.docker.com/)  \n",
    "[tidyverse R package](https://www.tidyverse.org/)  \n",
    "[compositions R package](https://cran.r-project.org/web/packages/compositions/)  \n",
    "[biopython Python module](https://biopython.org/)  \n",
    "[pysam Python module](https://pysam.readthedocs.io/en/stable/)  "
   ]
  },
  {
   "cell_type": "code",
   "execution_count": 6,
   "id": "f21efd60-c031-4586-bb0a-23b552a60482",
   "metadata": {
    "tags": []
   },
   "outputs": [],
   "source": [
    "!pip3 install import-ipynb -q\n",
    "!pip3 install pysam -q \n",
    "!pip3 install biopython -q\n",
    "!Rscript -e 'install.packages(\"tidyverse\")' &> /dev/null\n",
    "!Rscript -e 'install.packages(\"compositions\")' &> /dev/null"
   ]
  },
  {
   "cell_type": "markdown",
   "id": "f32a969e-f32d-4ff6-bd64-27244614a6c7",
   "metadata": {},
   "source": [
    "---\n",
    "## Import Statements (code)(import ipynb)\n",
    "---"
   ]
  },
  {
   "cell_type": "code",
   "execution_count": 3,
   "id": "050d9b6c-a887-43bd-add9-263b913bfb53",
   "metadata": {
    "tags": []
   },
   "outputs": [],
   "source": [
    "import import_ipynb "
   ]
  },
  {
   "cell_type": "code",
   "execution_count": 10,
   "id": "cfd39d9e-faaf-4a69-95a2-b7cb0f8ccda3",
   "metadata": {
    "tags": []
   },
   "outputs": [],
   "source": [
    "%%R\n",
    "suppressPackageStartupMessages(library(tidyverse))\n",
    "suppressPackageStartupMessages(library(compositions))"
   ]
  },
  {
   "cell_type": "markdown",
   "id": "5e51905b-74dd-42d9-9b66-5e1e8f56cb60",
   "metadata": {
    "tags": []
   },
   "source": [
    "---\n",
    "# Parameters\n",
    "---"
   ]
  },
  {
   "cell_type": "markdown",
   "id": "ae76dbfe-c02d-404c-8cff-fa843a26e4ae",
   "metadata": {},
   "source": [
    "Define folder for input data:"
   ]
  },
  {
   "cell_type": "code",
   "execution_count": 58,
   "id": "70f6dde9-4c2e-4075-b01e-8aeda6412cf3",
   "metadata": {
    "tags": []
   },
   "outputs": [
    {
     "name": "stdout",
     "output_type": "stream",
     "text": [
      "env: INPUT_DIR=./Data/Input_Data/sola/\n",
      "env: OUTPUT_DIR=./Data/Output_Data/\n"
     ]
    }
   ],
   "source": [
    "%env INPUT_DIR=./Data/Input_Data/sola/\n",
    "%env OUTPUT_DIR=./Data/Output_Data/"
   ]
  },
  {
   "cell_type": "markdown",
   "id": "240bd225-cf5b-450a-b8fa-5ffe6001a704",
   "metadata": {
    "tags": []
   },
   "source": [
    "`--cpu`: Define number of CPUs to run antiSMASH."
   ]
  },
  {
   "cell_type": "code",
   "execution_count": 31,
   "id": "22623b89-48b0-46c0-bffa-d8b41c9855ab",
   "metadata": {
    "tags": []
   },
   "outputs": [
    {
     "name": "stdout",
     "output_type": "stream",
     "text": [
      "env: CPU=40\n"
     ]
    }
   ],
   "source": [
    "%env CPU=40"
   ]
  },
  {
   "cell_type": "markdown",
   "id": "2594d634-ee3e-4ab4-891d-0fe8e0167c36",
   "metadata": {},
   "source": [
    " `--genefinding-tool`: Specify the gene finding tool; here we are using `prodigal-m`, that is Prodigal in Metagenomic mode."
   ]
  },
  {
   "cell_type": "code",
   "execution_count": 32,
   "id": "2e7eff7f-a431-4008-924a-2e79ca978785",
   "metadata": {
    "tags": []
   },
   "outputs": [
    {
     "name": "stdout",
     "output_type": "stream",
     "text": [
      "env: GENE_FINDING_TOOL=prodigal-m\n"
     ]
    }
   ],
   "source": [
    "%env GENE_FINDING_TOOL=prodigal-m"
   ]
  },
  {
   "cell_type": "markdown",
   "id": "bace5ad7-c1ac-4fda-873f-8ed266b4bb95",
   "metadata": {},
   "source": [
    "`--taxon`: Specify the taxonomic classification of input sequences (either bacteria or fungi); here we are using `bacteria`."
   ]
  },
  {
   "cell_type": "code",
   "execution_count": 33,
   "id": "352c0c46-46d3-49a2-8d4b-ccb39fccb118",
   "metadata": {
    "tags": []
   },
   "outputs": [
    {
     "name": "stdout",
     "output_type": "stream",
     "text": [
      "env: TAXON=bacteria\n"
     ]
    }
   ],
   "source": [
    "%env TAXON=bacteria"
   ]
  },
  {
   "cell_type": "markdown",
   "id": "7dff8074-be3b-45d8-b451-4ddf4b1abb46",
   "metadata": {
    "tags": []
   },
   "source": [
    " `--minlength`: Define the minimum length of sequences to be analyzed; here we are using `5000` bp."
   ]
  },
  {
   "cell_type": "code",
   "execution_count": 35,
   "id": "cf391ba4-11b9-48f0-bce3-275fa0a767c2",
   "metadata": {
    "tags": []
   },
   "outputs": [
    {
     "name": "stdout",
     "output_type": "stream",
     "text": [
      "env: MINLENGTH=5000\n"
     ]
    }
   ],
   "source": [
    "%env MINLENGTH=5000"
   ]
  },
  {
   "cell_type": "markdown",
   "id": "bcec0494-acc9-481f-b869-8836b3456d1d",
   "metadata": {
    "tags": []
   },
   "source": [
    "`--allow-long-headers`: Prevents long headers from being renamed (this is a flag, no values needed)."
   ]
  },
  {
   "cell_type": "markdown",
   "id": "0087c162-c5f3-43d7-a9a1-c74d17b53355",
   "metadata": {},
   "source": [
    "## Input and output data directories \n",
    "---"
   ]
  },
  {
   "cell_type": "markdown",
   "id": "197359c5-60ed-48a9-b171-f2e92e9dabc3",
   "metadata": {},
   "source": [
    "These variables are strings that contain the path to the input and output data directories."
   ]
  },
  {
   "cell_type": "code",
   "execution_count": 2,
   "id": "73a075fa-b2ed-404e-8482-143d5495e01f",
   "metadata": {},
   "outputs": [],
   "source": [
    "input_dir = 'path/to/data'\n",
    "output_dir = 'path/to/data'"
   ]
  },
  {
   "cell_type": "markdown",
   "id": "0e013f57-2555-4060-8be1-29e87ae41a51",
   "metadata": {},
   "source": [
    "This cell sets an environment variable to be used later. This is a useful way to set parameters for shell scripts or bash used later in the notebook."
   ]
  },
  {
   "cell_type": "code",
   "execution_count": 26,
   "id": "8112d729-1aa1-4c6c-a02a-e6c0ea23b1e0",
   "metadata": {
    "tags": []
   },
   "outputs": [],
   "source": [
    "import os \n",
    "\n",
    "os.environ['MESSAGE'] = 'Hello Worlds'"
   ]
  },
  {
   "cell_type": "markdown",
   "id": "96260cdb-cfc4-4b17-b686-6aba52f13c64",
   "metadata": {
    "tags": []
   },
   "source": [
    "---\n",
    "# Data Precleaning (if required) \n",
    "---"
   ]
  },
  {
   "cell_type": "markdown",
   "id": "b8820d33-fdc2-45ac-96a0-c413c2d41bb9",
   "metadata": {},
   "source": [
    "This section aims to demonstrate any modifications done to the data from the orginal source, to the format it the tool needs for processing. Follwoing the instructions in this section, a user should be able to replicate the steps required to take the original data set (or any similar data set) and perform requistite transformation required for the tool. If there is any metadata, augmentations to refernce data bases or similar required to run your tool, all those steps should also be included here. \n",
    "This section should follow these steps:\n",
    "- Load data into notebook (pd.read_csv, bash csv, etc)(if required)\n",
    "- Validate the loaded data is the correct format (for user replication) \n",
    "- Perform any other necessary validations (depending on protocol/tool)\n",
    "- Alternate markdown cell explaining manipulation with code cell executing the manipulation.\n",
    "- Mark each step heading with ### to insert into tabel fo contents \n",
    "\n",
    "If any of these steps are not required for your specific tool, do omit them."
   ]
  },
  {
   "cell_type": "markdown",
   "id": "e4f64e2f-e7ea-472d-9942-2010e2dcb193",
   "metadata": {
    "tags": []
   },
   "source": [
    "---\n",
    "# Execution of Tool \n",
    "---"
   ]
  },
  {
   "cell_type": "markdown",
   "id": "358612e9-411d-4fba-ac26-719e4c9d9cba",
   "metadata": {},
   "source": [
    "This section aims to demonstrate how to execute the tool and performs a sample run on test data. This portion of the notebook may be fairly code intensive and is the most important part of the notebook. To improve readibility and clarity, most of the more verbose code sections should be written as fucntions in python, as shell scripts stored in the src directory, or whatever language necessary for the tool you are using.\n",
    "\n",
    "If the step you hope to perform involves more than a couple lines of code, please see the function definition format in the src/NB_utility.ipynb and wrap you rcode in a function using that format. If you prefer to use bash scripts, wrtie your commands into a shell file, and then execute them in this portion of the maind deck. once your code is wrapped as function in the utility NB, you can inport and run it using the format below.\n",
    "Each step should be separated by a markdown heading with a brief explanation followed by the necessary code.\n",
    "Use the parameter variables definied earlier in the notebook as arguments for functions written here. If there is an input that is not already included in the parameters section, include it there."
   ]
  },
  {
   "cell_type": "markdown",
   "id": "ffec226a-1285-4eea-b2c1-ae0218f35fab",
   "metadata": {},
   "source": [
    "First we run antiSMASH in all 38 samples of the SOLA dataset."
   ]
  },
  {
   "cell_type": "code",
   "execution_count": null,
   "id": "bdeab45f-6eb0-47bf-9257-84d7f330abf2",
   "metadata": {
    "tags": []
   },
   "outputs": [],
   "source": [
    "%%bash\n",
    "\n",
    "SCAFFOLDS=$(ls \"${INPUT_DIR}\"/ERR*/output/scaffolds.fasta)\n",
    "for SCAFFOLD in (echo \"${SCAFFOLD}\" | sed \"s/.*\\/output.*/\\1/\");\n",
    "  OUTPUT_DIR=\"{SAMPLE_NAME}\";\n",
    "  ./src/run_antismash.sh \"${SCAFFOLD}\" \"${OUTPUT_DIR}/antismash\" \\\n",
    "  --cpus \"${CPU}\" \\\n",
    "  --genefinding-tool \"${GENE_FINDING_TOOL}\" \\\n",
    "  --taxon \"${TAXON}\" \\\n",
    "  --allow-long-headers \\\n",
    "  --minlength \"${MINLENGHT}\";\n",
    "done 2> /dev/null\n"
   ]
  },
  {
   "cell_type": "markdown",
   "id": "3d463008-c828-4ca3-a804-0b57d3ac3f6c",
   "metadata": {},
   "source": [
    "Secondly, we can run the script `get_cov.py` to compute the coverage of the identified BGCs.  \n",
    "Before running this tool, we have to concatenate all BGC gbk files from each metagenomic sample produced by antiSMASH."
   ]
  },
  {
   "cell_type": "code",
   "execution_count": 47,
   "id": "e903cfc2-6da2-441f-bffc-1452ed8139b3",
   "metadata": {
    "tags": []
   },
   "outputs": [],
   "source": [
    "%%bash\n",
    "\n",
    "ls -d \"${OUTPUT_DIR}/antismash/\"ERR* | \\\n",
    "while read LINE; do\n",
    "  SAMPLE=$(basename \"${LINE}\")\n",
    "  cat \"${LINE}\"/scaffolds/\"${SAMPLE}\"*.region*.gbk > \"${OUTPUT_DIR}/antismash/${SAMPLE}.gbk\"\n",
    "done"
   ]
  },
  {
   "cell_type": "markdown",
   "id": "00f10fb7-7fee-4377-b805-5c05a31cc025",
   "metadata": {
    "tags": []
   },
   "source": [
    "Now we can compute the coverage. Note that for this task we need the associated BAM of the assembled data.  "
   ]
  },
  {
   "cell_type": "code",
   "execution_count": 60,
   "id": "c71269dd-3c92-4957-bdc1-25c71b72dbd3",
   "metadata": {
    "tags": []
   },
   "outputs": [],
   "source": [
    "%%bash\n",
    "\n",
    "ls \"${OUTPUT_DIR}/antismash/\"*.gbk | \\\n",
    "while read LINE; do\n",
    "  SAMPLE=$(basename \"${LINE}\" .gbk)\n",
    "   ./src/get_cov.py \\\n",
    "  --input_gbk \"${OUTPUT_DIR}/antismash/${SAMPLE}.gbk\" \\\n",
    "  --input_bam \"${INPUT_DIR}/${SAMPLE}/output/mapped.sorted.bam\" \\\n",
    "  --sample_name \"${SAMPLE}\" \\\n",
    "  --output_tsv \"${OUTPUT_DIR}/antismash/${SAMPLE}.tsv\"\n",
    "done\n",
    "\n",
    "cat \"${OUTPUT_DIR}/antismash/\"*.tsv  > \"${OUTPUT_DIR}/bgc_abund.tsv\""
   ]
  },
  {
   "cell_type": "markdown",
   "id": "31aa663f-fc33-4af2-b25b-195edeeb5f0a",
   "metadata": {
    "tags": []
   },
   "source": [
    "---\n",
    "# Data Post Processing (if required) \n",
    "---"
   ]
  },
  {
   "cell_type": "markdown",
   "id": "96d262b3-64e7-47ec-bb18-41d1691612aa",
   "metadata": {},
   "source": [
    "## Write to output directory\n",
    "---\n",
    "If the tool does not do it automatically, use this cell to write the output data to the output directory defined in the parameter section."
   ]
  },
  {
   "cell_type": "markdown",
   "id": "a95f5b0f-10dc-429d-82a0-e5ce3b55a7a5",
   "metadata": {},
   "source": [
    "This section aims to contain all the code necessary to perform the data cleaning, formatting or analysis that would be performed on the output of this tool. Use the same formatting as previously mentioned in the execution section of the notebook:\n",
    "- Offload long code sections to the src/Utility_NB and import the code \n",
    "- Add validation to catch errors in and irregularities in the data \n",
    "- Alternate code and markdown cells \n",
    "- Include a markdown header for each step using ### to add it to the table of contents\n",
    "- Display data and tranformations were necessary. "
   ]
  },
  {
   "cell_type": "markdown",
   "id": "111075ec-19f5-4e53-acca-7eacae2ab466",
   "metadata": {},
   "source": [
    "---\n",
    "# Visualization \n",
    "---"
   ]
  },
  {
   "cell_type": "markdown",
   "id": "bdd46e51-4f2e-4811-ae5c-9ceb3f8d7046",
   "metadata": {},
   "source": [
    "If there is a visualization you would like to include here, generate it here.\n",
    "Phrase the code used to generate the visualization as a function in the format mentioned in the execution section of this notebook.\n",
    "Place the function is the utility NB such that it can be reused to generate new visualizations on future data. \n",
    "If the vizualization has additional options and parameters, there is no need to add them to the parameters section, and those parameters can be included into a miniature parameter section  in this section."
   ]
  },
  {
   "cell_type": "markdown",
   "id": "535a420e-919a-47ba-a8b5-15e2a0733e54",
   "metadata": {},
   "source": [
    "---\n",
    "# Conclusion\n",
    "---\n",
    "Include any final parting thoughts in this section.\n",
    "This section may also incude:\n",
    "- Common mistakes and fixes. \n",
    "- Debugging tips.\n",
    "- Contact for the author.\n",
    "- Any other information you would like to include"
   ]
  },
  {
   "cell_type": "markdown",
   "id": "56339f87-34a1-4fad-a584-9ebfa2be866b",
   "metadata": {},
   "source": []
  },
  {
   "cell_type": "markdown",
   "id": "c9825cda-38b4-4a11-9a35-315f96dfa27f",
   "metadata": {},
   "source": []
  },
  {
   "cell_type": "markdown",
   "id": "3fc821a5-1d24-4899-ae87-24aa86d05c60",
   "metadata": {},
   "source": []
  },
  {
   "cell_type": "markdown",
   "id": "c532b35d-5cc4-48b9-a09f-2f09ebe08d27",
   "metadata": {},
   "source": []
  },
  {
   "cell_type": "markdown",
   "id": "c8001bd4-2ad7-4c32-8117-cd5d5a050bd0",
   "metadata": {},
   "source": []
  },
  {
   "cell_type": "markdown",
   "id": "505e23f4-f056-4803-b336-973de2b5a061",
   "metadata": {},
   "source": []
  }
 ],
 "metadata": {
  "kernelspec": {
   "display_name": "Python 3 (ipykernel)",
   "language": "python",
   "name": "python3"
  },
  "language_info": {
   "codemirror_mode": {
    "name": "ipython",
    "version": 3
   },
   "file_extension": ".py",
   "mimetype": "text/x-python",
   "name": "python",
   "nbconvert_exporter": "python",
   "pygments_lexer": "ipython3",
   "version": "3.11.4"
  }
 },
 "nbformat": 4,
 "nbformat_minor": 5
}
